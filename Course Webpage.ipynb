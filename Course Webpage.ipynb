{
 "cells": [
  {
   "cell_type": "markdown",
   "metadata": {},
   "source": [
    "# **`Introduction to Financial Econometrics`**\n",
    "\n",
    "***\n",
    "\n",
    ">#### [Course Syllabus](https://nbviewer.jupyter.org/github/OwlMetrics/Financial-Econometrics/blob/master/syllabus.pdf)\n",
    "\n",
    ">#### Lecture 1: [Introduction to Financial Data](https://nbviewer.jupyter.org/github/OwlMetrics/Financial-Econometrics/blob/master/lecture%201.pdf), [R code](https://nbviewer.jupyter.org/github/OwlMetrics/Financial-Econometrics/blob/master/lecture%201.R)\n",
    "\n",
    ">#### Lecture 2: [Linear Time Series Models (1)](https://nbviewer.jupyter.org/github/OwlMetrics/Financial-Econometrics/blob/master/lecture%202.pdf),  [R code](https://nbviewer.jupyter.org/github/OwlMetrics/Financial-Econometrics/blob/master/lecture%202.R)\n",
    "\n",
    ">#### Lecture 3: \n",
    "\n",
    ">#### Lecture 4:\n",
    "\n",
    ">#### Lecture 5: \n",
    "\n",
    ">#### Lecture 6: \n",
    "\n",
    ">#### Lecture 7:\n",
    "\n",
    ">#### Lecture 8: \n",
    "\n",
    ">***\n",
    "\n",
    ">#### Data:\n",
    "[[**`S&P 500 Daily Data`**](https://pan.baidu.com/s/1KGDZl-uEZxkoMTNufO4tsA)], [[**`S&P 500 Monthly Data`**](https://pan.baidu.com/s/14_9IYOqc1xWKoAP3a87LSQ)], [[**`VIX`**](https://pan.baidu.com/s/1H4b5mKN_U2sh86rFEAFvPw)]\n"
   ]
  }
 ],
 "metadata": {
  "kernelspec": {
   "display_name": "Python 3",
   "language": "python",
   "name": "python3"
  },
  "language_info": {
   "codemirror_mode": {
    "name": "ipython",
    "version": 3
   },
   "file_extension": ".py",
   "mimetype": "text/x-python",
   "name": "python",
   "nbconvert_exporter": "python",
   "pygments_lexer": "ipython3",
   "version": "3.6.3"
  }
 },
 "nbformat": 4,
 "nbformat_minor": 2
}
