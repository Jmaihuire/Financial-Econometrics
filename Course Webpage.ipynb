{
 "cells": [
  {
   "cell_type": "markdown",
   "metadata": {},
   "source": [
    "# **`Introduction to Financial Econometrics`**\n",
    "\n",
    "***\n",
    "\n",
    "### **`Financial Econometrics I: Time Series Analysis`**\n",
    "\n",
    ">#### [Syllabus](https://nbviewer.jupyter.org/github/OwlMetrics/Financial-Econometrics/blob/master/syllabus.pdf)\n",
    "\n",
    ">#### Lecture 1: [Introduction to Financial Data](https://nbviewer.jupyter.org/github/OwlMetrics/Financial-Econometrics/blob/master/lecture%201.pdf), [R code](https://nbviewer.jupyter.org/github/OwlMetrics/Financial-Econometrics/blob/master/lecture%201.R), [PS1](https://nbviewer.jupyter.org/github/OwlMetrics/Financial-Econometrics/blob/master/ps1.pdf), [PS1 solution](https://nbviewer.jupyter.org/github/OwlMetrics/Financial-Econometrics/blob/master/ps1_sol.html)\n",
    "\n",
    ">#### Lecture 2: [Linear Time Series Models (1)](https://nbviewer.jupyter.org/github/OwlMetrics/Financial-Econometrics/blob/master/lecture%202.pdf), [R code](https://nbviewer.jupyter.org/github/OwlMetrics/Financial-Econometrics/blob/master/lecture_2.html), [PS2](https://nbviewer.jupyter.org/github/OwlMetrics/Financial-Econometrics/blob/master/ps2.pdf), [PS2 solution](https://nbviewer.jupyter.org/github/OwlMetrics/Financial-Econometrics/blob/master/ps2_sol.html)\n",
    "\n",
    ">#### Lecture 3: [Linear Time Series Models (2)](https://nbviewer.jupyter.org/github/OwlMetrics/Financial-Econometrics/blob/master/lecture%203.pdf), [R code](https://nbviewer.jupyter.org/github/OwlMetrics/Financial-Econometrics/blob/master/lecture_3.html), [PS3](https://nbviewer.jupyter.org/github/OwlMetrics/Financial-Econometrics/blob/master/ps3.pdf), [PS3 solution](https://nbviewer.jupyter.org/github/OwlMetrics/Financial-Econometrics/blob/master/ps3_sol.html)\n",
    "\n",
    ">#### Lecture 4: [Linear Time Series Models (3)](https://nbviewer.jupyter.org/github/OwlMetrics/Financial-Econometrics/blob/master/lecture%204.pdf), [R code](https://nbviewer.jupyter.org/github/OwlMetrics/Financial-Econometrics/blob/master/lecture_4.html), [PS4](https://nbviewer.jupyter.org/github/OwlMetrics/Financial-Econometrics/blob/master/ps4.pdf), [PS4 solution](https://nbviewer.jupyter.org/github/OwlMetrics/Financial-Econometrics/blob/master/ps4_sol.html)\n",
    "\n",
    ">#### Lecture 5: [Heteroscedastic Volatility Models (1)](https://nbviewer.jupyter.org/github/OwlMetrics/Financial-Econometrics/blob/master/lecture%205.pdf), [R code](https://nbviewer.jupyter.org/github/OwlMetrics/Financial-Econometrics/blob/master/lecture_5.html), [PS5](https://nbviewer.jupyter.org/github/OwlMetrics/Financial-Econometrics/blob/master/ps5.pdf), [PS5 solution](https://nbviewer.jupyter.org/github/OwlMetrics/Financial-Econometrics/blob/master/ps5_sol.html)\n",
    "\n",
    ">#### Lecture 6: [Heteroscedastic Volatility Models (2)](https://nbviewer.jupyter.org/github/OwlMetrics/Financial-Econometrics/blob/master/lecture%206.pdf), [R code](https://nbviewer.jupyter.org/github/OwlMetrics/Financial-Econometrics/blob/master/lecture_6.html), [PS6](https://nbviewer.jupyter.org/github/OwlMetrics/Financial-Econometrics/blob/master/ps6.pdf), [PS6 solution](https://nbviewer.jupyter.org/github/OwlMetrics/Financial-Econometrics/blob/master/ps6_sol.html)\n",
    "\n",
    ">#### Lecture 7: [Multivariate Time Series Analysis (1)](https://nbviewer.jupyter.org/github/OwlMetrics/Financial-Econometrics/blob/master/lecture%207.pdf), [R code](https://nbviewer.jupyter.org/github/OwlMetrics/Financial-Econometrics/blob/master/lecture_7.html), [PS7](https://nbviewer.jupyter.org/github/OwlMetrics/Financial-Econometrics/blob/master/ps7.pdf), [PS7 solution](https://nbviewer.jupyter.org/github/OwlMetrics/Financial-Econometrics/blob/master/ps7_sol.html)\n",
    "\n",
    ">#### Lecture 8: [Multivariate Time Series Analysis (2)](https://nbviewer.jupyter.org/github/OwlMetrics/Financial-Econometrics/blob/master/lecture%208.pdf), [R code](https://nbviewer.jupyter.org/github/OwlMetrics/Financial-Econometrics/blob/master/lecture_8.html), [PS8](https://nbviewer.jupyter.org/github/OwlMetrics/Financial-Econometrics/blob/master/ps8.pdf), [PS8 solution](https://nbviewer.jupyter.org/github/OwlMetrics/Financial-Econometrics/blob/master/ps8_sol.html)\n",
    "\n",
    ">#### Final Project:\n",
    "\n",
    ">#### Appendix: [Some Advanced and Theoretical Topics]()\n",
    "\n",
    ">***\n",
    "\n",
    ">#### Data\n",
    "[[**`S&P500 Daily`**](https://pan.baidu.com/s/1PbMxNX5IvG_uI-6oNb26qQ)], [[**`S&P500 Monthly`**](https://pan.baidu.com/s/18_8IcuBmbMc7S3inIAvLPw)], [[**`VIX`**](https://pan.baidu.com/s/1opUwDI2xChFlvU5y2kj78w)], [[**`SPDR Gold`**](https://pan.baidu.com/s/1Ohd7TEldcnEzT2HCsH3zuA)], [[**`Apple`**](https://pan.baidu.com/s/1LlS27B49bxTHafdpxMJ5Wg)]\n",
    "\n",
    ">#### Data Sources\n",
    "[[**`WindR`**](https://pan.baidu.com/s/1uYi2_YZ_i0wCdWzcf84krQ)], [[**`Yahoo!Finance`**](https://finance.yahoo.com)]\n"
   ]
  }
 ],
 "metadata": {
  "kernelspec": {
   "display_name": "Python 3",
   "language": "python",
   "name": "python3"
  },
  "language_info": {
   "codemirror_mode": {
    "name": "ipython",
    "version": 3
   },
   "file_extension": ".py",
   "mimetype": "text/x-python",
   "name": "python",
   "nbconvert_exporter": "python",
   "pygments_lexer": "ipython3",
   "version": "3.6.5"
  }
 },
 "nbformat": 4,
 "nbformat_minor": 2
}
