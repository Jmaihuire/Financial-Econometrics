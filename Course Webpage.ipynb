{
 "cells": [
  {
   "cell_type": "markdown",
   "metadata": {},
   "source": [
    "# **`Introduction to Financial Econometrics`**\n",
    "\n",
    "***\n",
    "\n",
    "### **`Financial Econometrics I: Time Series Analysis`**\n",
    "\n",
    ">#### [Syllabus](https://nbviewer.jupyter.org/github/OwlMetrics/Financial-Econometrics/blob/master/syllabus.pdf)\n",
    "\n",
    ">#### Lecture 1: [Introduction to Financial Data](https://nbviewer.jupyter.org/github/OwlMetrics/Financial-Econometrics/blob/master/lecture%201.pdf), [R code](https://nbviewer.jupyter.org/github/OwlMetrics/Financial-Econometrics/blob/master/lecture%201.R), [PS1](https://nbviewer.jupyter.org/github/OwlMetrics/Financial-Econometrics/blob/master/ps1.pdf), [PS1 solution](https://nbviewer.jupyter.org/github/OwlMetrics/Financial-Econometrics/blob/master/ps1_sol.html)\n",
    "\n",
    ">#### Lecture 2: [Linear Time Series Models (1)](https://nbviewer.jupyter.org/github/OwlMetrics/Financial-Econometrics/blob/master/lecture%202.pdf), [R code](https://nbviewer.jupyter.org/github/OwlMetrics/Financial-Econometrics/blob/master/lecture_2.pdf), [PS2](https://nbviewer.jupyter.org/github/OwlMetrics/Financial-Econometrics/blob/master/ps2.pdf), [PS1 solution](https://nbviewer.jupyter.org/github/OwlMetrics/Financial-Econometrics/blob/master/ps2_sol.html)\n",
    "\n",
    ">#### Lecture 3: [Linear Time Series Models (2)](https://nbviewer.jupyter.org/github/OwlMetrics/Financial-Econometrics/blob/master/lecture%203.pdf), [R code](https://nbviewer.jupyter.org/github/OwlMetrics/Financial-Econometrics/blob/master/lecture_3.pdf), [PS3](https://nbviewer.jupyter.org/github/OwlMetrics/Financial-Econometrics/blob/master/ps3.pdf), [PS1 solution](https://nbviewer.jupyter.org/github/OwlMetrics/Financial-Econometrics/blob/master/ps3_sol.html)\n",
    "\n",
    ">#### Lecture 4: [Linear Time Series Models (3)](https://nbviewer.jupyter.org/github/OwlMetrics/Financial-Econometrics/blob/master/lecture%204.pdf), [R code](https://nbviewer.jupyter.org/github/OwlMetrics/Financial-Econometrics/blob/master/lecture_4.pdf), [WindR](https://pan.baidu.com/s/1uYi2_YZ_i0wCdWzcf84krQ), [PS4](https://nbviewer.jupyter.org/github/OwlMetrics/Financial-Econometrics/blob/master/ps4.pdf), [PS1 solution](https://nbviewer.jupyter.org/github/OwlMetrics/Financial-Econometrics/blob/master/ps4_sol.html)\n",
    "\n",
    "\n",
    ">#### Lecture 5: \n",
    "\n",
    ">#### Lecture 6: \n",
    "\n",
    ">#### Lecture 7:\n",
    "\n",
    ">#### Lecture 8: \n",
    "\n",
    ">#### Final Project:\n",
    "\n",
    ">#### Appendix: [Some Advanced and Theoretical Topics]()\n",
    "\n",
    ">***\n",
    "\n",
    ">#### Data:\n",
    "[[**`S&P500 Daily`**](https://pan.baidu.com/s/1PbMxNX5IvG_uI-6oNb26qQ)], [[**`S&P500 Monthly`**](https://pan.baidu.com/s/18_8IcuBmbMc7S3inIAvLPw)], [[**`VIX`**](https://pan.baidu.com/s/1opUwDI2xChFlvU5y2kj78w)]\n"
   ]
  }
 ],
 "metadata": {
  "kernelspec": {
   "display_name": "Python 3",
   "language": "python",
   "name": "python3"
  },
  "language_info": {
   "codemirror_mode": {
    "name": "ipython",
    "version": 3
   },
   "file_extension": ".py",
   "mimetype": "text/x-python",
   "name": "python",
   "nbconvert_exporter": "python",
   "pygments_lexer": "ipython3",
   "version": "3.6.3"
  }
 },
 "nbformat": 4,
 "nbformat_minor": 2
}
