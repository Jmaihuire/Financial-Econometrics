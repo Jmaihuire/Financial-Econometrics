{
 "cells": [
  {
   "cell_type": "markdown",
   "metadata": {},
   "source": [
    "# **`Introduction to Financial Econometrics`**\n",
    "\n",
    "***\n",
    "\n",
    "### **`Financial Econometrics I: Time Series Analysis`**\n",
    "\n",
    ">#### [Syllabus](https://nbviewer.jupyter.org/github/OwlMetrics/Financial-Econometrics/blob/master/syllabus.pdf)\n",
    "\n",
    ">#### Lecture 1: [Introduction to Financial Data](https://nbviewer.jupyter.org/github/OwlMetrics/Financial-Econometrics/blob/master/lecture%201.pdf), [R code](https://nbviewer.jupyter.org/github/OwlMetrics/Financial-Econometrics/blob/master/lecture%201.R), [PS1](https://nbviewer.jupyter.org/github/OwlMetrics/Financial-Econometrics/blob/master/ps1.pdf)\n",
    "\n",
    ">#### Lecture 2: [Linear Time Series Models (1)](https://nbviewer.jupyter.org/github/OwlMetrics/Financial-Econometrics/blob/master/lecture%202.pdf), [R code](https://nbviewer.jupyter.org/github/OwlMetrics/Financial-Econometrics/blob/master/lecture_2.html), [PS2](https://nbviewer.jupyter.org/github/OwlMetrics/Financial-Econometrics/blob/master/ps2.pdf)\n",
    "\n",
    ">#### Lecture 3: [Linear Time Series Models (2)](https://nbviewer.jupyter.org/github/OwlMetrics/Financial-Econometrics/blob/master/lecture%203.pdf), [R code](https://nbviewer.jupyter.org/github/OwlMetrics/Financial-Econometrics/blob/master/lecture_3.html), [PS3](https://nbviewer.jupyter.org/github/OwlMetrics/Financial-Econometrics/blob/master/ps3.pdf)\n",
    "\n",
    ">#### Lecture 4: [Linear Time Series Models (3)](https://nbviewer.jupyter.org/github/OwlMetrics/Financial-Econometrics/blob/master/lecture%204.pdf), [R code](https://nbviewer.jupyter.org/github/OwlMetrics/Financial-Econometrics/blob/master/lecture_4.html), [PS4](https://nbviewer.jupyter.org/github/OwlMetrics/Financial-Econometrics/blob/master/ps4.pdf)\n",
    "\n",
    ">#### Lecture 5: [Heteroscedastic Volatility Models (1)](https://nbviewer.jupyter.org/github/OwlMetrics/Financial-Econometrics/blob/master/lecture%205.pdf), [R code](https://nbviewer.jupyter.org/github/OwlMetrics/Financial-Econometrics/blob/master/lecture_5.html), [PS5](https://nbviewer.jupyter.org/github/OwlMetrics/Financial-Econometrics/blob/master/ps5.pdf)\n",
    "\n",
    ">#### Lecture 6: [Heteroscedastic Volatility Models (2)](https://nbviewer.jupyter.org/github/OwlMetrics/Financial-Econometrics/blob/master/lecture%206.pdf), [R code](https://nbviewer.jupyter.org/github/OwlMetrics/Financial-Econometrics/blob/master/lecture_6.html), [PS6](https://nbviewer.jupyter.org/github/OwlMetrics/Financial-Econometrics/blob/master/ps6.pdf)\n",
    "\n",
    ">#### Lecture 7: [Multivariate Time Series Analysis (1)](https://nbviewer.jupyter.org/github/OwlMetrics/Financial-Econometrics/blob/master/lecture%207.pdf), [R code](https://nbviewer.jupyter.org/github/OwlMetrics/Financial-Econometrics/blob/master/lecture_7.html), [PS7](https://nbviewer.jupyter.org/github/OwlMetrics/Financial-Econometrics/blob/master/ps7.pdf)\n",
    "\n",
    ">#### Lecture 8: [Multivariate Time Series Analysis (2)](https://nbviewer.jupyter.org/github/OwlMetrics/Financial-Econometrics/blob/master/lecture%208.pdf), [R code](https://nbviewer.jupyter.org/github/OwlMetrics/Financial-Econometrics/blob/master/lecture%208.Rmd)\n",
    "\n",
    ">#### Final Project: [Final Project](https://nbviewer.jupyter.org/github/OwlMetrics/Financial-Econometrics/blob/master/final%20project.pdf)\n",
    "\n",
    ">#### Appendix: [Some Advanced and Theoretical Topics]()\n",
    "\n",
    ">***\n",
    "\n",
    ">#### Data\n",
    "[[**`S&P500 Daily`**](https://pan.baidu.com/s/1PbMxNX5IvG_uI-6oNb26qQ)], [[**`S&P500 Monthly`**](https://pan.baidu.com/s/18_8IcuBmbMc7S3inIAvLPw)], [[**`VIX`**](https://pan.baidu.com/s/1opUwDI2xChFlvU5y2kj78w)], [[**`SPDR Gold`**](https://pan.baidu.com/s/1Ohd7TEldcnEzT2HCsH3zuA)], [[**`Apple`**](https://pan.baidu.com/s/1LlS27B49bxTHafdpxMJ5Wg)], [[**`Intel`**](https://pan.baidu.com/s/1pu85itHvVppZoNcbN68UHQ)], [[**`Ford`**](https://pan.baidu.com/s/1jcVccVyBrMNgfkZUFgfvzQ)], [[**`Goldman Sachs`**](https://pan.baidu.com/s/19oPag47AuJbHym9kdrZNJg)], [[**`FTSE100&250`**](https://pan.baidu.com/s/1XHMUsr1HLVDf8Fnc2VqhEw)], [[**`US Treasury`**](https://pan.baidu.com/s/1kUrN6vBadtyHxsi0MsjrOw)], [[**`NASDAQ`**](https://pan.baidu.com/s/1WVuqGOXkTgbwmPBGDT9e2g)]\n",
    "\n",
    ">#### Data Sources\n",
    "[[**`WindR`**](https://pan.baidu.com/s/1uYi2_YZ_i0wCdWzcf84krQ)], [[**`Yahoo!Finance`**](https://finance.yahoo.com)]\n"
   ]
  }
 ],
 "metadata": {
  "kernelspec": {
   "display_name": "Python 3",
   "language": "python",
   "name": "python3"
  },
  "language_info": {
   "codemirror_mode": {
    "name": "ipython",
    "version": 3
   },
   "file_extension": ".py",
   "mimetype": "text/x-python",
   "name": "python",
   "nbconvert_exporter": "python",
   "pygments_lexer": "ipython3",
   "version": "3.7.0"
  }
 },
 "nbformat": 4,
 "nbformat_minor": 2
}
