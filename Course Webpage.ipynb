{
 "cells": [
  {
   "cell_type": "markdown",
   "metadata": {},
   "source": [
    "# **`Introduction to Financial Econometrics`**\n",
    "\n",
    "***\n",
    "\n",
    ">#### [Course Syllabus](https://nbviewer.jupyter.org/github/OwlMetrics/Financial-Econometrics/blob/master/syllabus.pdf)\n",
    "\n",
    ">#### Lecture 01: [Introduction to Financial Data](https://nbviewer.jupyter.org/github/OwlMetrics/Financial-Econometrics/blob/master/lecture%201.pdf), [R code](https://nbviewer.jupyter.org/github/OwlMetrics/Financial-Econometrics/blob/master/lecture%201.R)\n",
    "\n",
    ">#### Lecture 02: [Linear Time Series Models (1)](https://nbviewer.jupyter.org/github/OwlMetrics/Financial-Econometrics/blob/master/lecture%202.pdf),  [R code](https://nbviewer.jupyter.org/github/OwlMetrics/Financial-Econometrics/blob/master/lecture%202.R)\n",
    "\n",
    ">#### Lecture 03: \n",
    "\n",
    ">#### Lecture 04:\n",
    "\n",
    ">#### Lecture 05: \n",
    "\n",
    ">#### Lecture 06: \n",
    "\n",
    ">#### Lecture 07:\n",
    "\n",
    ">#### Lecture 08: \n",
    "\n",
    ">***\n",
    "\n",
    ">#### Data:\n",
    "[[**`S&P 500 Daily Data`**](https://pan.baidu.com/s/1KGDZl-uEZxkoMTNufO4tsA)], [[**`S&P 500 Monthly Data`**](https://pan.baidu.com/s/14_9IYOqc1xWKoAP3a87LSQ)], [[**`VIX`**](https://pan.baidu.com/s/1H4b5mKN_U2sh86rFEAFvPw)]\n"
   ]
  }
 ],
 "metadata": {
  "kernelspec": {
   "display_name": "Python 3",
   "language": "python",
   "name": "python3"
  },
  "language_info": {
   "codemirror_mode": {
    "name": "ipython",
    "version": 3
   },
   "file_extension": ".py",
   "mimetype": "text/x-python",
   "name": "python",
   "nbconvert_exporter": "python",
   "pygments_lexer": "ipython3",
   "version": "3.6.3"
  }
 },
 "nbformat": 4,
 "nbformat_minor": 2
}
