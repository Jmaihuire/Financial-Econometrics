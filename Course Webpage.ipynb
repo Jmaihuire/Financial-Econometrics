{
 "cells": [
  {
   "cell_type": "markdown",
   "metadata": {},
   "source": [
    "# `Introduction to Financial Econometrics`\n",
    "\n",
    "***\n",
    "\n",
    ">#### [Syllabus](https://nbviewer.jupyter.org/github/OwlMetrics/Financial-Econometrics/blob/master/syllabus.pdf)\n",
    "\n",
    ">#### Lecture 01: [slides](https://nbviewer.jupyter.org/github/OwlMetrics/Financial-Econometrics/blob/master/lecture%201.pdf), [R code](https://nbviewer.jupyter.org/github/OwlMetrics/Financial-Econometrics/blob/master/lecture%201.R)\n",
    "\n",
    ">#### Lecture 02: [slides](https://nbviewer.jupyter.org/github/OwlMetrics/Financial-Econometrics/blob/master/lecture%202.pdf)\n",
    "\n",
    ">#### Lecture 03: *to appear*\n",
    "\n",
    ">#### Lecture 04: *to appear*\n",
    "\n",
    ">#### Lecture 05: *to appear*\n",
    "\n",
    ">#### Lecture 06: *to appear*\n",
    "\n",
    ">#### Lecture 07: *to appear*\n",
    "\n",
    ">#### Lecture 08: *to appear*\n",
    "\n",
    ">#### Lecture 09: *to appear*\n",
    "\n",
    ">#### Lecture 10: *to appear*\n",
    "\n",
    ">#### Lecture 11: *to appear*\n",
    "\n",
    ">#### Lecture 12: *to appear*\n",
    "\n",
    ">#### Lecture 13: *to appear*\n",
    "\n",
    ">#### Lecture 14: *to appear*\n",
    "\n",
    ">#### Lecture 15: *to appear*\n",
    "\n",
    ">#### Lecture 16: *to appear*\n"
   ]
  }
 ],
 "metadata": {
  "kernelspec": {
   "display_name": "Python 3",
   "language": "python",
   "name": "python3"
  },
  "language_info": {
   "codemirror_mode": {
    "name": "ipython",
    "version": 3
   },
   "file_extension": ".py",
   "mimetype": "text/x-python",
   "name": "python",
   "nbconvert_exporter": "python",
   "pygments_lexer": "ipython3",
   "version": "3.6.3"
  }
 },
 "nbformat": 4,
 "nbformat_minor": 2
}
