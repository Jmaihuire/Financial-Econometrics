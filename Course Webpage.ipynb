{
 "cells": [
  {
   "cell_type": "markdown",
   "metadata": {},
   "source": [
    "# **`Financial Econometrics`**\n",
    "\n",
    "***\n",
    "\n",
    ">#### [Syllabus](https://nbviewer.jupyter.org/github/OwlMetrics/Financial-Econometrics/blob/master/syllabus.pdf)\n",
    "\n",
    ">#### Lecture 01: [slides](https://nbviewer.jupyter.org/github/OwlMetrics/Financial-Econometrics/blob/master/lecture%201.pdf), [R code](https://nbviewer.jupyter.org/github/OwlMetrics/Financial-Econometrics/blob/master/lecture%201.R)\n",
    "\n",
    ">#### Lecture 02: [slides](https://nbviewer.jupyter.org/github/OwlMetrics/Financial-Econometrics/blob/master/lecture%202.pdf)\n",
    "\n",
    ">#### Lecture 03: [slides](https://nbviewer.jupyter.org/github/OwlMetrics/Financial-Econometrics/blob/master/lecture%203.pdf), [video](https://pan.baidu.com/s/1l3SknvWJ4XwLy0HAO5v7rA)\n",
    "\n",
    ">#### Lecture 04: [slides](https://nbviewer.jupyter.org/github/OwlMetrics/Financial-Econometrics/blob/master/lecture%204.pdf), [R code](https://nbviewer.jupyter.org/github/OwlMetrics/Financial-Econometrics/blob/master/lecture_4.html)\n",
    "\n",
    ">#### Lecture 05:  [slides](https://nbviewer.jupyter.org/github/OwlMetrics/Financial-Econometrics/blob/master/lecture%205.pdf)\n",
    "\n",
    ">#### Lecture 06: [slides](https://nbviewer.jupyter.org/github/OwlMetrics/Financial-Econometrics/blob/master/lecture%206.pdf), [R code](https://nbviewer.jupyter.org/github/OwlMetrics/Financial-Econometrics/blob/master/lecture_6.pdf)\n",
    "\n",
    ">#### Lecture 07: *to appear*\n",
    "\n",
    ">#### Lecture 08: *to appear*\n",
    "\n",
    ">#### Lecture 09: *to appear*\n",
    "\n",
    ">#### Lecture 10: *to appear*\n",
    "\n",
    ">#### Lecture 11: *to appear*\n",
    "\n",
    ">#### Lecture 12: *to appear*\n",
    "\n",
    ">#### Lecture 13: *to appear*\n",
    "\n",
    ">#### Lecture 14: *to appear*\n",
    "\n",
    ">#### Lecture 15: *to appear*\n",
    "\n",
    ">#### Lecture 16: *to appear*\n",
    "\n",
    ">#### Data:\n",
    "[[**`S&P 500 Daily Data`**](https://pan.baidu.com/s/1KGDZl-uEZxkoMTNufO4tsA)], [[**`S&P 500 Monthly Data`**](https://pan.baidu.com/s/14_9IYOqc1xWKoAP3a87LSQ)], [[**`VIX`**](https://pan.baidu.com/s/1H4b5mKN_U2sh86rFEAFvPw)], [[**`gold prices`**]()]\n"
   ]
  }
 ],
 "metadata": {
  "kernelspec": {
   "display_name": "Python 3",
   "language": "python",
   "name": "python3"
  },
  "language_info": {
   "codemirror_mode": {
    "name": "ipython",
    "version": 3
   },
   "file_extension": ".py",
   "mimetype": "text/x-python",
   "name": "python",
   "nbconvert_exporter": "python",
   "pygments_lexer": "ipython3",
   "version": "3.6.3"
  }
 },
 "nbformat": 4,
 "nbformat_minor": 2
}
